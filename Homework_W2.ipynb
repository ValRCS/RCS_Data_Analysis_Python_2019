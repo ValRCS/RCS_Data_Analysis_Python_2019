{
 "cells": [
  {
   "cell_type": "code",
   "execution_count": 1,
   "metadata": {},
   "outputs": [
    {
     "name": "stdout",
     "output_type": "stream",
     "text": [
      "1\n",
      "2\n",
      "3\n",
      "4\n",
      "Fizz\n",
      "6\n",
      "Buzz\n",
      "8\n",
      "9\n",
      "Fizz\n",
      "11\n",
      "12\n",
      "13\n",
      "Buzz\n",
      "Fizz\n",
      "16\n",
      "17\n",
      "18\n",
      "19\n",
      "Fizz\n",
      "Buzz\n",
      "22\n",
      "23\n",
      "24\n",
      "Fizz\n",
      "26\n",
      "27\n",
      "Buzz\n",
      "29\n",
      "Fizz\n",
      "31\n",
      "32\n",
      "33\n",
      "34\n",
      "FizzBuzz\n",
      "36\n",
      "37\n",
      "38\n",
      "39\n",
      "Fizz\n",
      "41\n",
      "Buzz\n",
      "43\n",
      "44\n",
      "Fizz\n",
      "46\n",
      "47\n",
      "48\n",
      "Buzz\n",
      "Fizz\n",
      "51\n",
      "52\n",
      "53\n",
      "54\n",
      "Fizz\n",
      "Buzz\n",
      "57\n",
      "58\n",
      "59\n",
      "Fizz\n",
      "61\n",
      "62\n",
      "Buzz\n",
      "64\n",
      "Fizz\n",
      "66\n",
      "67\n",
      "68\n",
      "69\n",
      "FizzBuzz\n",
      "71\n",
      "72\n",
      "73\n",
      "74\n",
      "Fizz\n",
      "76\n",
      "Buzz\n",
      "78\n",
      "79\n",
      "Fizz\n",
      "81\n",
      "82\n",
      "83\n",
      "Buzz\n",
      "Fizz\n",
      "86\n",
      "87\n",
      "88\n",
      "89\n",
      "Fizz\n",
      "Buzz\n",
      "92\n",
      "93\n",
      "94\n",
      "Fizz\n",
      "96\n",
      "97\n",
      "Buzz\n",
      "99\n",
      "Fizz\n"
     ]
    }
   ],
   "source": [
    "for x in range(1,101):\n",
    "    if x % 5 == 0 and x % 7 == 0:\n",
    "        print(\"FizzBuzz\")\n",
    "    elif x % 5 == 0:\n",
    "        print(\"Fizz\")\n",
    "    elif x % 7 == 0:\n",
    "        print(\"Buzz\")\n",
    "    else:\n",
    "        print(x)"
   ]
  },
  {
   "cell_type": "code",
   "execution_count": 3,
   "metadata": {},
   "outputs": [
    {
     "name": "stdout",
     "output_type": "stream",
     "text": [
      "[2, 4, 6, 8, 10, 12, 14, 16, 18, 20, 22, 24, 26, 28, 30, 32, 34, 36, 38, 40, 42, 44, 46, 48, 50, 52, 54, 56, 58, 60, 62, 64, 66, 68, 70, 72, 74, 76, 78, 80, 82, 84, 86, 88, 90, 92, 94, 96, 98, 100]\n"
     ]
    }
   ],
   "source": [
    "print([x for x in range(1,101) if x % 2 == 0])"
   ]
  },
  {
   "cell_type": "code",
   "execution_count": null,
   "metadata": {},
   "outputs": [],
   "source": [
    "# One liner for Fizzbuzz"
   ]
  },
  {
   "cell_type": "code",
   "execution_count": 9,
   "metadata": {},
   "outputs": [
    {
     "name": "stdout",
     "output_type": "stream",
     "text": [
      "[1, 2, 3, 4, 'Fizz', 6, 'Buzz', 8, 9, 'Fizz', 11, 12, 13, 'Buzz', 'Fizz', 16, 17, 18, 19, 'Fizz', 'Buzz', 22, 23, 24, 'Fizz', 26, 27, 'Buzz', 29, 'Fizz', 31, 32, 33, 34, 'FizzBuzz', 36, 37, 38, 39, 'Fizz', 41, 'Buzz', 43, 44, 'Fizz', 46, 47, 48, 'Buzz', 'Fizz', 51, 52, 53, 54, 'Fizz', 'Buzz', 57, 58, 59, 'Fizz', 61, 62, 'Buzz', 64, 'Fizz', 66, 67, 68, 69, 'FizzBuzz', 71, 72, 73, 74, 'Fizz', 76, 'Buzz', 78, 79, 'Fizz', 81, 82, 83, 'Buzz', 'Fizz', 86, 87, 88, 89, 'Fizz', 'Buzz', 92, 93, 94, 'Fizz', 96, 97, 'Buzz', 99, 'Fizz']\n"
     ]
    }
   ],
   "source": [
    "print([\"Fizz\" * (not x % 5) + \"Buzz\" * (not x % 7) or x for x in range(1,101)])"
   ]
  },
  {
   "cell_type": "code",
   "execution_count": 10,
   "metadata": {},
   "outputs": [
    {
     "data": {
      "text/plain": [
       "True"
      ]
     },
     "execution_count": 10,
     "metadata": {},
     "output_type": "execute_result"
    }
   ],
   "source": [
    "# Easy\n",
    "# Write a function to calculate volume for Rectangular Cuboid (visas malas ir taisnsturas 3D objektam)\n",
    "def getRectVol(l,w,h):\n",
    "    '''\n",
    "    '''\n",
    "    return l*w*h #You should be returning something not None!\n",
    "getRectVol(2,5,7) == 70"
   ]
  },
  {
   "cell_type": "code",
   "execution_count": 11,
   "metadata": {},
   "outputs": [
    {
     "name": "stdout",
     "output_type": "stream",
     "text": [
      "True\n",
      "True\n"
     ]
    }
   ],
   "source": [
    "# Medium\n",
    "# Write a function to check if string is a palindrome\n",
    "def isPalindrome(s):\n",
    "    '''\n",
    "    '''\n",
    "    return s == s[::-1]\n",
    "print(isPalindrome('alusariirasula') == True)\n",
    "print(isPalindrome('normaltext') == False)"
   ]
  },
  {
   "cell_type": "code",
   "execution_count": 12,
   "metadata": {},
   "outputs": [
    {
     "data": {
      "text/plain": [
       "True"
      ]
     },
     "execution_count": 12,
     "metadata": {},
     "output_type": "execute_result"
    }
   ],
   "source": [
    "isPalindrome('akka')"
   ]
  },
  {
   "cell_type": "code",
   "execution_count": 13,
   "metadata": {},
   "outputs": [
    {
     "data": {
      "text/plain": [
       "True"
      ]
     },
     "execution_count": 13,
     "metadata": {},
     "output_type": "execute_result"
    }
   ],
   "source": [
    "isPalindrome('abbba')\n"
   ]
  },
  {
   "cell_type": "code",
   "execution_count": 14,
   "metadata": {},
   "outputs": [
    {
     "data": {
      "text/plain": [
       "True"
      ]
     },
     "execution_count": 14,
     "metadata": {},
     "output_type": "execute_result"
    }
   ],
   "source": [
    "isPalindrome('')"
   ]
  },
  {
   "cell_type": "code",
   "execution_count": 15,
   "metadata": {},
   "outputs": [
    {
     "data": {
      "text/plain": [
       "True"
      ]
     },
     "execution_count": 15,
     "metadata": {},
     "output_type": "execute_result"
    }
   ],
   "source": [
    "isPalindrome('!')"
   ]
  },
  {
   "cell_type": "code",
   "execution_count": null,
   "metadata": {},
   "outputs": [],
   "source": []
  },
  {
   "cell_type": "code",
   "execution_count": 25,
   "metadata": {},
   "outputs": [
    {
     "name": "stdout",
     "output_type": "stream",
     "text": [
      "abcdefghijklmnopqrstuvwxyz\n"
     ]
    }
   ],
   "source": [
    "# One liner is possible! Okay to do it a longer way\n",
    "# Hints: dir(\"mystring\") for string manipulation(might need more than one method)\n",
    "# Also remember one \"unique\" data structure we covered\n",
    "\n",
    "import string\n",
    "print(string.ascii_lowercase)\n",
    "def isPangram(mytext, alphabet=string.ascii_lowercase+\" \"):\n",
    "    '''\n",
    "    '''\n",
    "    return set(mytext.lower()) == set(alphabet)\n",
    "assert(isPangram('dadfafd') == False)\n",
    "assert(isPangram(\"The quick brown fox jumps over the lazy dog\") == True)\n",
    "assert(isPangram(\"The five boxing wizards jump quickly\") == True)"
   ]
  },
  {
   "cell_type": "code",
   "execution_count": 26,
   "metadata": {},
   "outputs": [
    {
     "name": "stdout",
     "output_type": "stream",
     "text": [
      "Python 3.7.0\n"
     ]
    }
   ],
   "source": [
    "!python --version"
   ]
  },
  {
   "cell_type": "code",
   "execution_count": 27,
   "metadata": {},
   "outputs": [
    {
     "data": {
      "text/plain": [
       "['a', 'a', 'b', 'r']"
      ]
     },
     "execution_count": 27,
     "metadata": {},
     "output_type": "execute_result"
    }
   ],
   "source": [
    "sorted(\"abra\")"
   ]
  },
  {
   "cell_type": "code",
   "execution_count": 22,
   "metadata": {},
   "outputs": [
    {
     "data": {
      "text/plain": [
       "list"
      ]
     },
     "execution_count": 22,
     "metadata": {},
     "output_type": "execute_result"
    }
   ],
   "source": [
    "sorted(set(\"Valdis\"))"
   ]
  },
  {
   "cell_type": "code",
   "execution_count": 19,
   "metadata": {},
   "outputs": [
    {
     "data": {
      "text/plain": [
       "['V', 'a', 'l', 'd', 'i', 's']"
      ]
     },
     "execution_count": 19,
     "metadata": {},
     "output_type": "execute_result"
    }
   ],
   "source": [
    "list(\"Valdis\")"
   ]
  },
  {
   "cell_type": "code",
   "execution_count": 20,
   "metadata": {},
   "outputs": [
    {
     "data": {
      "text/plain": [
       "['V', 'a', 'd', 'i', 'l', 's']"
      ]
     },
     "execution_count": 20,
     "metadata": {},
     "output_type": "execute_result"
    }
   ],
   "source": [
    "sorted(list(\"Valdis\"))"
   ]
  },
  {
   "cell_type": "code",
   "execution_count": 31,
   "metadata": {},
   "outputs": [],
   "source": [
    "#Pangrama stringa pārbaude !\n",
    "def ifPangram():\n",
    "    strings=str(input(\"Input text in english ! \"))\n",
    "    testList=['a', 'b', 'c', 'd', 'e', 'f', 'g', 'h', 'i', 'j', 'k', 'l', 'm', 'n', 'o', 'p', 'q', 'r', 's', 't', 'u', 'v', 'w', 'x', 'y', 'z']\n",
    "    s=strings.lower()\n",
    "    d=set(list(s))\n",
    "    d=list(d)\n",
    "    d.sort()\n",
    "    cc=[]\n",
    "    print(\"Pirms tīrīšanas cikla - \",d)# izprintē lai saprastu ko tīra ! \n",
    "    for char in d:\n",
    "        print (char)# redzams, ka korekti nestrādā for cikls !\n",
    "        if char.isalpha():\n",
    "            cc.extend(char)# savukārt šis mēdz \"nozagt\" burtu \"a\",\n",
    "            # ja stringā papildus elementi :+-/?\"\" jo nestrādā for cikls, \n",
    "        else:\n",
    "            d.remove(char)# kāpēc šis nestrādā korekti! Paliek lieki elementi listā \n",
    "            #ja sringā :+-/?\"\" vai skaitļi jo nestrādā for cikls  \n",
    "    print(\"īztīrīts variants a -\",cc)# tikai testēšanai\n",
    "    print (\"īztīrīts variants b -\",d)# tikai testēšanai \n",
    "    if cc==testList or d==testList:# nekorekti, bet šādi strādā nedaudz labāk ! \n",
    "        print(\" Is pangram - \", True)\n",
    "    else:\n",
    "        print(\" No pangram - \", False)\n",
    "    return d"
   ]
  },
  {
   "cell_type": "code",
   "execution_count": 33,
   "metadata": {},
   "outputs": [
    {
     "name": "stdout",
     "output_type": "stream",
     "text": [
      "Input text in english ! The quick brown fox jumps over the lazy dog\n",
      "Pirms tīrīšanas cikla -  [' ', 'a', 'b', 'c', 'd', 'e', 'f', 'g', 'h', 'i', 'j', 'k', 'l', 'm', 'n', 'o', 'p', 'q', 'r', 's', 't', 'u', 'v', 'w', 'x', 'y', 'z']\n",
      " \n",
      "b\n",
      "c\n",
      "d\n",
      "e\n",
      "f\n",
      "g\n",
      "h\n",
      "i\n",
      "j\n",
      "k\n",
      "l\n",
      "m\n",
      "n\n",
      "o\n",
      "p\n",
      "q\n",
      "r\n",
      "s\n",
      "t\n",
      "u\n",
      "v\n",
      "w\n",
      "x\n",
      "y\n",
      "z\n",
      "īztīrīts variants a - ['b', 'c', 'd', 'e', 'f', 'g', 'h', 'i', 'j', 'k', 'l', 'm', 'n', 'o', 'p', 'q', 'r', 's', 't', 'u', 'v', 'w', 'x', 'y', 'z']\n",
      "īztīrīts variants b - ['a', 'b', 'c', 'd', 'e', 'f', 'g', 'h', 'i', 'j', 'k', 'l', 'm', 'n', 'o', 'p', 'q', 'r', 's', 't', 'u', 'v', 'w', 'x', 'y', 'z']\n",
      " Is pangram -  True\n"
     ]
    }
   ],
   "source": [
    "mylist = ifPangram()"
   ]
  },
  {
   "cell_type": "code",
   "execution_count": 34,
   "metadata": {},
   "outputs": [
    {
     "data": {
      "text/plain": [
       "['a',\n",
       " 'b',\n",
       " 'c',\n",
       " 'd',\n",
       " 'e',\n",
       " 'f',\n",
       " 'g',\n",
       " 'h',\n",
       " 'i',\n",
       " 'j',\n",
       " 'k',\n",
       " 'l',\n",
       " 'm',\n",
       " 'n',\n",
       " 'o',\n",
       " 'p',\n",
       " 'q',\n",
       " 'r',\n",
       " 's',\n",
       " 't',\n",
       " 'u',\n",
       " 'v',\n",
       " 'w',\n",
       " 'x',\n",
       " 'y',\n",
       " 'z']"
      ]
     },
     "execution_count": 34,
     "metadata": {},
     "output_type": "execute_result"
    }
   ],
   "source": [
    "mylist"
   ]
  },
  {
   "cell_type": "code",
   "execution_count": 36,
   "metadata": {},
   "outputs": [
    {
     "name": "stdout",
     "output_type": "stream",
     "text": [
      "a\n",
      "b\n",
      "c\n",
      "d\n",
      "e\n",
      "f\n",
      "g\n",
      "h\n",
      "i\n",
      "j\n",
      "k\n",
      "l\n",
      "m\n",
      "n\n",
      "o\n",
      "p\n",
      "q\n",
      "r\n",
      "s\n",
      "t\n",
      "u\n",
      "v\n",
      "w\n",
      "x\n",
      "y\n",
      "z\n"
     ]
    }
   ],
   "source": [
    "for char in mylist:\n",
    "    print(char)"
   ]
  }
 ],
 "metadata": {
  "kernelspec": {
   "display_name": "Python 3",
   "language": "python",
   "name": "python3"
  },
  "language_info": {
   "codemirror_mode": {
    "name": "ipython",
    "version": 3
   },
   "file_extension": ".py",
   "mimetype": "text/x-python",
   "name": "python",
   "nbconvert_exporter": "python",
   "pygments_lexer": "ipython3",
   "version": "3.7.0"
  }
 },
 "nbformat": 4,
 "nbformat_minor": 2
}
