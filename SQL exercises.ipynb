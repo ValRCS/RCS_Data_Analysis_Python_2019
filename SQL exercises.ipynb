{
 "cells": [
  {
   "cell_type": "markdown",
   "metadata": {},
   "source": [
    "## Requirements\n",
    "Use the [Chinook Database](https://chinookdatabase.codeplex.com/) and the [DB Browser for SQLite](http://sqlitebrowser.org/) we downloaded in the ERD exercise.\n",
    "### Can use Python/Pandas as well to create queries but not required!\n",
    "\n",
    "For each of the following exercises, provide the appropriate query.\n",
    "\n",
    "Keep your successful queries in a `chinook-queries.sql` file.\n",
    "\n",
    "1. Provide a query showing Customers (just their full names, customer ID and country) who are not in the US.\n",
    "2. Provide a query only showing the Customers from Brazil.\n",
    "3. Provide a query showing the Invoices of customers who are from Brazil. The resultant table should show the customer's full name, Invoice ID, Date of the invoice and billing country.\n",
    "4. Provide a query showing only the Employees who are Sales Agents.\n",
    "5. Provide a query showing a unique list of billing countries from the Invoice table.\n",
    "6. Provide a query showing the invoices of customers who are from Brazil.\n",
    "7. Provide a query that shows the invoices associated with each sales agent. The resultant table should include the Sales Agent's full name.\n",
    "8. Provide a query that shows the Invoice Total, Customer name, Country and Sale Agent name for all invoices and customers.\n",
    "9. How many Invoices were there in 2009 and 2011? What are the respective total sales for each of those years?\n",
    "10. Looking at the InvoiceLine table, provide a query that COUNTs the number of line items for Invoice ID 37.\n",
    "11. Looking at the InvoiceLine table, provide a query that COUNTs the number of line items for each Invoice. HINT: [GROUP BY](http://www.sqlite.org/lang_select.html#resultset)\n",
    "12. Provide a query that includes the track name with each invoice line item.\n",
    "13. Provide a query that includes the purchased track name AND artist name with each invoice line item.\n",
    "14. Provide a query that shows the # of invoices per country. HINT: [GROUP BY](http://www.sqlite.org/lang_select.html#resultset)\n",
    "15. Provide a query that shows the total number of tracks in each playlist. The Playlist name should be include on the resultant table.\n",
    "16. Provide a query that shows all the Tracks, but displays no IDs. The resultant table should include the Album name, Media type and Genre.\n",
    "17. Provide a query that shows all Invoices but includes the # of invoice line items.\n",
    "18. Provide a query that shows total sales made by each sales agent.\n",
    "19. Which sales agent made the most in sales in 2009?\n",
    "20. Which sales agent made the most in sales in 2010?\n",
    "21. Which sales agent made the most in sales over all?\n",
    "22. Provide a query that shows the # of customers assigned to each sales agent.\n",
    "23. Provide a query that shows the total sales per country. Which country's customers spent the most?\n",
    "24. Provide a query that shows the most purchased track of 2013.\n",
    "25. Provide a query that shows the top 5 most purchased tracks over all.\n",
    "26. Provide a query that shows the top 3 best selling artists.\n",
    "27. Provide a query that shows the most purchased Media Type.\n",
    "\n",
    "#### Other Resources\n",
    "* http://www.sqlcourse.com/\n",
    "* https://github.com/treehouse/cheatsheets/blob/master/sql_basics/cheatsheet.md\n",
    "* [SQL Cheatsheet](https://zeroturnaround.com/wp-content/uploads/2016/06/RebelLabs-SQL-cheat-sheet.png)\n",
    "* http://www.sqlite.org/lang_select.html\n",
    "* https://www.sololearn.com/Course/SQL/\n"
   ]
  }
 ],
 "metadata": {
  "kernelspec": {
   "display_name": "Python 3",
   "language": "python",
   "name": "python3"
  },
  "language_info": {
   "codemirror_mode": {
    "name": "ipython",
    "version": 3
   },
   "file_extension": ".py",
   "mimetype": "text/x-python",
   "name": "python",
   "nbconvert_exporter": "python",
   "pygments_lexer": "ipython3",
   "version": "3.7.3"
  }
 },
 "nbformat": 4,
 "nbformat_minor": 2
}
