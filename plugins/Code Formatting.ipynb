{
 "cells": [
  {
   "cell_type": "markdown",
   "metadata": {},
   "source": [
    "# Code Formatting Plugins using Black formatter\n",
    "\n",
    "[Black](https://github.com/ambv/black)\n",
    "\n",
    "* https://medium.com/openplanetary/code-formatting-in-jupyter-cells-8fee4eda072f\n",
    "\n",
    "* https://github.com/csurfer/blackcellmagic\n",
    "* https://github.com/dnanhkhoa/nb_black"
   ]
  },
  {
   "cell_type": "code",
   "execution_count": 1,
   "metadata": {},
   "outputs": [
    {
     "name": "stdout",
     "output_type": "stream",
     "text": [
      "Collecting black\n",
      "  Downloading https://files.pythonhosted.org/packages/30/62/cf549544a5fe990bbaeca21e9c419501b2de7a701ab0afb377bc81676600/black-19.3b0-py36-none-any.whl (89kB)\n",
      "Requirement already satisfied: attrs>=18.1.0 in c:\\programdata\\anaconda3\\lib\\site-packages (from black) (19.1.0)\n",
      "Collecting appdirs (from black)\n",
      "  Downloading https://files.pythonhosted.org/packages/56/eb/810e700ed1349edde4cbdc1b2a21e28cdf115f9faf263f6bbf8447c1abf3/appdirs-1.4.3-py2.py3-none-any.whl\n",
      "Collecting toml>=0.9.4 (from black)\n",
      "  Downloading https://files.pythonhosted.org/packages/a2/12/ced7105d2de62fa7c8fb5fce92cc4ce66b57c95fb875e9318dba7f8c5db0/toml-0.10.0-py2.py3-none-any.whl\n",
      "Requirement already satisfied: click>=6.5 in c:\\programdata\\anaconda3\\lib\\site-packages (from black) (7.0)\n",
      "Installing collected packages: appdirs, toml, black\n",
      "Successfully installed appdirs-1.4.3 black-19.3b0 toml-0.10.0\n"
     ]
    }
   ],
   "source": [
    "!pip install black"
   ]
  },
  {
   "cell_type": "code",
   "execution_count": 2,
   "metadata": {},
   "outputs": [
    {
     "name": "stdout",
     "output_type": "stream",
     "text": [
      "Collecting nb_black\n",
      "  Downloading https://files.pythonhosted.org/packages/84/b8/34e3f5a6d62c5cd96c75bbb10707c5c8d893c41654757b077860afe34a8d/nb_black-1.0.4.tar.gz\n",
      "Requirement already satisfied: ipython in c:\\programdata\\anaconda3\\lib\\site-packages (from nb_black) (7.4.0)\n",
      "Requirement already satisfied: black in c:\\programdata\\anaconda3\\lib\\site-packages (from nb_black) (19.3b0)\n",
      "Requirement already satisfied: colorama; sys_platform == \"win32\" in c:\\programdata\\anaconda3\\lib\\site-packages (from ipython->nb_black) (0.4.1)\n",
      "Requirement already satisfied: pygments in c:\\programdata\\anaconda3\\lib\\site-packages (from ipython->nb_black) (2.3.1)\n",
      "Requirement already satisfied: traitlets>=4.2 in c:\\programdata\\anaconda3\\lib\\site-packages (from ipython->nb_black) (4.3.2)\n",
      "Requirement already satisfied: decorator in c:\\programdata\\anaconda3\\lib\\site-packages (from ipython->nb_black) (4.4.0)\n",
      "Requirement already satisfied: prompt-toolkit<2.1.0,>=2.0.0 in c:\\programdata\\anaconda3\\lib\\site-packages (from ipython->nb_black) (2.0.9)\n",
      "Requirement already satisfied: jedi>=0.10 in c:\\programdata\\anaconda3\\lib\\site-packages (from ipython->nb_black) (0.13.3)\n",
      "Requirement already satisfied: backcall in c:\\programdata\\anaconda3\\lib\\site-packages (from ipython->nb_black) (0.1.0)\n",
      "Requirement already satisfied: setuptools>=18.5 in c:\\programdata\\anaconda3\\lib\\site-packages (from ipython->nb_black) (40.8.0)\n",
      "Requirement already satisfied: pickleshare in c:\\programdata\\anaconda3\\lib\\site-packages (from ipython->nb_black) (0.7.5)\n",
      "Requirement already satisfied: appdirs in c:\\programdata\\anaconda3\\lib\\site-packages (from black->nb_black) (1.4.3)\n",
      "Requirement already satisfied: toml>=0.9.4 in c:\\programdata\\anaconda3\\lib\\site-packages (from black->nb_black) (0.10.0)\n",
      "Requirement already satisfied: attrs>=18.1.0 in c:\\programdata\\anaconda3\\lib\\site-packages (from black->nb_black) (19.1.0)\n",
      "Requirement already satisfied: click>=6.5 in c:\\programdata\\anaconda3\\lib\\site-packages (from black->nb_black) (7.0)\n",
      "Requirement already satisfied: six in c:\\programdata\\anaconda3\\lib\\site-packages (from traitlets>=4.2->ipython->nb_black) (1.12.0)\n",
      "Requirement already satisfied: ipython-genutils in c:\\programdata\\anaconda3\\lib\\site-packages (from traitlets>=4.2->ipython->nb_black) (0.2.0)\n",
      "Requirement already satisfied: wcwidth in c:\\programdata\\anaconda3\\lib\\site-packages (from prompt-toolkit<2.1.0,>=2.0.0->ipython->nb_black) (0.1.7)\n",
      "Requirement already satisfied: parso>=0.3.0 in c:\\programdata\\anaconda3\\lib\\site-packages (from jedi>=0.10->ipython->nb_black) (0.3.4)\n",
      "Building wheels for collected packages: nb-black\n",
      "  Building wheel for nb-black (setup.py): started\n",
      "  Building wheel for nb-black (setup.py): finished with status 'done'\n",
      "  Stored in directory: C:\\Users\\val-p1\\AppData\\Local\\pip\\Cache\\wheels\\b6\\b1\\a5\\c38d1e4b108a5708ed8097ac1b5938beb2e8f83869f51ff9bd\n",
      "Successfully built nb-black\n",
      "Installing collected packages: nb-black\n",
      "Successfully installed nb-black-1.0.4\n"
     ]
    }
   ],
   "source": [
    "!pip install nb_black"
   ]
  }
 ],
 "metadata": {
  "kernelspec": {
   "display_name": "Python 3",
   "language": "python",
   "name": "python3"
  },
  "language_info": {
   "codemirror_mode": {
    "name": "ipython",
    "version": 3
   },
   "file_extension": ".py",
   "mimetype": "text/x-python",
   "name": "python",
   "nbconvert_exporter": "python",
   "pygments_lexer": "ipython3",
   "version": "3.7.3"
  }
 },
 "nbformat": 4,
 "nbformat_minor": 2
}
